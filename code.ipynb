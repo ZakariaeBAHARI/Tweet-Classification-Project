{
 "cells": [
  {
   "cell_type": "code",
   "execution_count": 1,
   "id": "9c407eae",
   "metadata": {},
   "outputs": [],
   "source": [
    "import pandas as pd\n",
    "import matplotlib.pyplot as plt\n",
    "import seaborn as sns\n",
    "from sklearn.model_selection import train_test_split\n",
    "from sklearn.feature_extraction.text import TfidfVectorizer\n",
    "from sklearn.preprocessing import LabelEncoder\n",
    "import re\n",
    "from sklearn.linear_model import LogisticRegression\n",
    "from sklearn.metrics import accuracy_score, classification_report, confusion_matrix"
   ]
  },
  {
   "cell_type": "code",
   "execution_count": 61,
   "id": "4d00ac6b",
   "metadata": {},
   "outputs": [
    {
     "name": "stdout",
     "output_type": "stream",
     "text": [
      "Training Dataset:\n",
      "               TweetId     Label  \\\n",
      "0  304271250237304833  Politics   \n",
      "1  304834304222064640  Politics   \n",
      "2  303568995880144898    Sports   \n",
      "3  304366580664528896    Sports   \n",
      "4  296770931098009601    Sports   \n",
      "\n",
      "                                           TweetText  \n",
      "0  '#SecKerry: The value of the @StateDept and @U...  \n",
      "1                            '@rraina1481 I fear so'  \n",
      "2  'Watch video highlights of the #wwc13 final be...  \n",
      "3  'RT @chelscanlan: At Nitro Circus at #AlbertPa...  \n",
      "4  '@cricketfox Always a good thing. Thanks for t...  \n",
      "\n",
      "Test Dataset:\n",
      "               TweetId                                          TweetText\n",
      "0  306486520121012224  '28. The home side threaten again through Maso...\n",
      "1  286353402605228032  '@mrbrown @aulia Thx for asking. See http://t....\n",
      "2  289531046037438464  '@Sochi2014 construction along the shores of t...\n",
      "3  306451661403062273  '#SecKerry\\u2019s remarks after meeting with F...\n",
      "4  297941800658812928  'The #IPLauction has begun. Ricky Ponting is t...\n"
     ]
    }
   ],
   "source": [
    "train_data = pd.read_csv('train.csv')\n",
    "test_data = pd.read_csv('test.csv')\n",
    "\n",
    "print(\"Training Dataset:\\n\", train_data.head())\n",
    "print(\"\\nTest Dataset:\\n\", test_data.head())\n"
   ]
  },
  {
   "cell_type": "code",
   "execution_count": 62,
   "id": "f05a1576",
   "metadata": {},
   "outputs": [
    {
     "data": {
      "image/png": "[encoded data removed]",
      "text/plain": [
       "<Figure size 800x600 with 1 Axes>"
      ]
     },
     "metadata": {},
     "output_type": "display_data"
    }
   ],
   "source": [
    "# Visualize the classes distribution\n",
    "plt.figure(figsize=(8, 6))\n",
    "sns.countplot(x='Label', data=train_data)\n",
    "plt.title('Class Distribution')\n",
    "plt.show()"
   ]
  },
  {
   "cell_type": "code",
   "execution_count": 63,
   "id": "44321edf",
   "metadata": {},
   "outputs": [],
   "source": [
    "# Text Preprocessing\n",
    "def preprocess_text(text):\n",
    "    # remove special characters and convert to lowercase\n",
    "    text = text.lower().replace(\"'\", \"\")\n",
    "    # Remove URLs\n",
    "    text = re.sub(r'http\\S+', '', text)\n",
    "    # Remove special characters and numbers\n",
    "    text = re.sub(r'[^a-z\\s]', '', text)\n",
    "    return text\n",
    "\n",
    "# Apply text preprocessing to the training and test datasets\n",
    "train_data['ProcessedText'] = train_data['TweetText'].apply(preprocess_text)\n",
    "test_data['ProcessedText'] = test_data['TweetText'].apply(preprocess_text)\n"
   ]
  },
  {
   "cell_type": "code",
   "execution_count": 64,
   "id": "466107bb",
   "metadata": {},
   "outputs": [],
   "source": [
    "# Feature Extraction\n",
    "X = train_data['ProcessedText']\n",
    "y = train_data['Label']"
   ]
  },
  {
   "cell_type": "code",
   "execution_count": null,
   "id": "baad7aeb",
   "metadata": {},
   "outputs": [],
   "source": [
    "['ProcessedText']\n",
    "y = train_data['Label']"
   ]
  },
  {
   "cell_type": "code",
   "execution_count": 65,
   "id": "57665c39",
   "metadata": {},
   "outputs": [],
   "source": [
    "# train_test split\n",
    "X_train, X_val, y_train, y_val = train_test_split(X, y, test_size=0.2, random_state=40)\n",
    "\n",
    "# Convert text to numerical representation \n",
    "tfidf_vectorizer = TfidfVectorizer(max_features=5000, stop_words='english')\n",
    "X_train_tfidf = tfidf_vectorizer.fit_transform(X_train)\n",
    "X_val_tfidf = tfidf_vectorizer.transform(X_val)\n",
    "\n",
    "# Label Encoding for target variable\n",
    "label_encoder = LabelEncoder()\n",
    "y_train_encoded = label_encoder.fit_transform(y_train)\n",
    "y_val_encoded = label_encoder.transform(y_val)\n",
    "\n",
    "# Model Training\n",
    "model = LogisticRegression(random_state=40)\n",
    "model.fit(X_train_tfidf, y_train_encoded)\n",
    "\n",
    "# Model Evaluation \n",
    "y_val_pred = model.predict(X_val_tfidf)"
   ]
  },
  {
   "cell_type": "code",
   "execution_count": 66,
   "id": "038c3201",
   "metadata": {},
   "outputs": [
    {
     "name": "stdout",
     "output_type": "stream",
     "text": [
      "Accuracy: 0.946360153256705\n",
      "\n",
      "Classification Report:\n",
      "              precision    recall  f1-score   support\n",
      "\n",
      "           0       0.94      0.94      0.94       621\n",
      "           1       0.95      0.95      0.95       684\n",
      "\n",
      "    accuracy                           0.95      1305\n",
      "   macro avg       0.95      0.95      0.95      1305\n",
      "weighted avg       0.95      0.95      0.95      1305\n",
      "\n",
      "\n",
      "Confusion Matrix:\n",
      "[[586  35]\n",
      " [ 35 649]]\n"
     ]
    }
   ],
   "source": [
    "# the model performance  \n",
    "accuracy = accuracy_score(y_val_encoded, y_val_pred)\n",
    "print(\"Accuracy:\", accuracy)\n",
    "\n",
    "\n",
    "print(\"\\nClassification Report:\")\n",
    "print(classification_report(y_val_encoded, y_val_pred))\n",
    "\n",
    "print(\"\\nConfusion Matrix:\")\n",
    "print(confusion_matrix(y_val_encoded, y_val_pred))"
   ]
  },
  {
   "cell_type": "code",
   "execution_count": 60,
   "id": "48c46f97",
   "metadata": {},
   "outputs": [
    {
     "name": "stdout",
     "output_type": "stream",
     "text": [
      "\n",
      "Submission DataFrame:\n",
      "              TweetId     Label\n",
      "0  306486520121012224    Sports\n",
      "1  286353402605228032    Sports\n",
      "2  289531046037438464  Politics\n",
      "3  306451661403062273  Politics\n",
      "4  297941800658812928    Sports\n"
     ]
    }
   ],
   "source": [
    "# Apply text preprocessing and TF-IDF vectorization to the test dataset\n",
    "test_data_tfidf = tfidf_vectorizer.transform(test_data['ProcessedText'])\n",
    "\n",
    "# Generate predictions on the test set\n",
    "test_predictions = model.predict(test_data_tfidf)\n",
    "\n",
    "# Decode label encoding for submission\n",
    "test_predictions_labels = label_encoder.inverse_transform(test_predictions)\n",
    "\n",
    "# Create a submission DataFrame\n",
    "submission_df = pd.DataFrame({\n",
    "    'TweetId': test_data['TweetId'],\n",
    "    'Label': test_predictions_labels\n",
    "})\n",
    "\n",
    "# Display the first few rows of the submission DataFrame\n",
    "print(\"\\nSubmission DataFrame:\")\n",
    "print(submission_df.head())\n",
    "\n",
    "# Save the submission DataFrame to a CSV file\n",
    "submission_df.to_csv('submission.csv', index=False)"
   ]
  },
  {
   "cell_type": "code",
   "execution_count": 67,
   "id": "f6d2667b",
   "metadata": {},
   "outputs": [
    {
     "name": "stdout",
     "output_type": "stream",
     "text": [
      "Tweet: Exciting conference  happening today!\n",
      "Predicted Label: Politics\n",
      "------------------------------\n",
      "Tweet: vollyeball enthusiasts gearing up for the big game!\n",
      "Predicted Label: Sports\n",
      "------------------------------\n",
      "Tweet: What are your thoughts on the current state situation?\n",
      "Predicted Label: Politics\n",
      "------------------------------\n",
      "Tweet: Training hard for the upcoming  tournament!\n",
      "Predicted Label: Sports\n",
      "------------------------------\n"
     ]
    }
   ],
   "source": [
    "# apply the model on new tweets \n",
    "\n",
    "\n",
    "new_tweets = [\n",
    "    \"Exciting conference  happening today!\",\n",
    "    \"vollyeball enthusiasts gearing up for the big game!\",\n",
    "    \"What are your thoughts on the current state situation?\",\n",
    "    \"Training hard for the upcoming  tournament!\"\n",
    "]\n",
    "\n",
    "# Preprocess the new tweets\n",
    "processed_new_tweets = [preprocess_text(tweet) for tweet in new_tweets]\n",
    "\n",
    "# Convert text to numerical representation using TF-IDF\n",
    "new_tweets_tfidf = tfidf_vectorizer.transform(processed_new_tweets)\n",
    "\n",
    "# Make predictions \n",
    "new_tweets_predictions = model.predict(new_tweets_tfidf)\n",
    "\n",
    "# Decode label encoding \n",
    "new_tweets_predictions_labels = label_encoder.inverse_transform(new_tweets_predictions)\n",
    "\n",
    "# Display predictions for each new tweet\n",
    "for tweet, prediction in zip(new_tweets, new_tweets_predictions_labels):\n",
    "    print(f\"Tweet: {tweet}\\nPredicted Label: {prediction}\\n{'-'*30}\")\n"
   ]
  }
 ],
 "metadata": {
  "kernelspec": {
   "display_name": "Python 3 (ipykernel)",
   "language": "python",
   "name": "python3"
  },
  "language_info": {
   "codemirror_mode": {
    "name": "ipython",
    "version": 3
   },
   "file_extension": ".py",
   "mimetype": "text/x-python",
   "name": "python",
   "nbconvert_exporter": "python",
   "pygments_lexer": "ipython3",
   "version": "3.11.3"
  }
 },
 "nbformat": 4,
 "nbformat_minor": 5
}
